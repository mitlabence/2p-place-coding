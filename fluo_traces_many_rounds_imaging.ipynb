{
 "cells": [
  {
   "cell_type": "code",
   "execution_count": 1,
   "metadata": {},
   "outputs": [],
   "source": [
    "data_folder=r'C:\\Users\\Theodore Tamiolakis\\OneDrive\\PhD\\Lab\\data\\representational_drift' #r means that I will treat the string as a raw string (/ are special characters)\n",
    "cnmf_file=\"{}\\\\231108_WEZ8917_24hr_poststim_20231115-071711_cnmf.hdf5\".format(data_folder) #data from cnmf\n",
    "belt_file=\"{}\\\\231108_WEZ8917_24hr_poststim_20231115-091157.h5\".format(data_folder) #data from lab view and lfp"
   ]
  },
  {
   "cell_type": "code",
   "execution_count": 3,
   "metadata": {},
   "outputs": [],
   "source": [
    "#import necessary packages\n",
    "import pandas as pd\n",
    "import h5py\n",
    "import xarray as xr\n",
    "import numpy as np\n",
    "import scipy.sparse \n",
    "import matplotlib.pyplot as plt\n",
    "import seaborn as sns\n",
    "from scipy.stats import zscore\n",
    "from scipy.ndimage import gaussian_filter"
   ]
  },
  {
   "cell_type": "code",
   "execution_count": 4,
   "metadata": {},
   "outputs": [],
   "source": [
    "#opening the hpf5 file\n",
    "fluo_hdf=h5py.File(cnmf_file)['estimates']['C']\n",
    "#convert it in a dataframe\n",
    "fluo_hdf=pd.DataFrame(fluo_hdf)"
   ]
  },
  {
   "cell_type": "code",
   "execution_count": 5,
   "metadata": {},
   "outputs": [],
   "source": [
    "#opening stripe folder\n",
    "\n",
    "stripe_hdf=h5py.File(belt_file)['inferred']['belt_dict']['stripes']\n",
    "stripe_hdf=pd.DataFrame(stripe_hdf)"
   ]
  },
  {
   "cell_type": "code",
   "execution_count": 6,
   "metadata": {},
   "outputs": [],
   "source": [
    "fluo_hdf_r=fluo_hdf.T #swap columns and rows in fluo hdf\n",
    "n_cells=fluo_hdf_r.shape[1]"
   ]
  },
  {
   "cell_type": "markdown",
   "metadata": {},
   "source": [
    "then I will need to test that I can plot the same plot as before following the exact same logic"
   ]
  },
  {
   "cell_type": "code",
   "execution_count": 7,
   "metadata": {},
   "outputs": [],
   "source": [
    "fluo_hdf_r=fluo_hdf_r.apply(zscore,axis=0)"
   ]
  },
  {
   "cell_type": "markdown",
   "metadata": {},
   "source": [
    "creating panda frames for running distance, speed, time and immobility"
   ]
  },
  {
   "cell_type": "code",
   "execution_count": 9,
   "metadata": {},
   "outputs": [],
   "source": [
    "# panda frame for time\n",
    "time_hdf=h5py.File(belt_file)['inferred']['belt_dict']['tsscn']\n",
    "time_hdf=pd.DataFrame(time_hdf)\n",
    "time_hdf.columns=['Time (ms)']\n",
    "#panda frame for distance\n",
    "distance_hdf=h5py.File(belt_file)['inferred']['belt_scn_df']['totdist']\n",
    "distance_hdf=pd.DataFrame(distance_hdf)\n",
    "distance_hdf.columns=['Distance (cm)']\n",
    "# panda frame for speed\n",
    "speed_hdf=h5py.File(belt_file)['inferred']['belt_scn_df']['speed']\n",
    "speed_hdf=pd.DataFrame(speed_hdf)\n",
    "speed_hdf.columns=['Speed (cm/s)']\n",
    "# panda frame for number of rounds\n",
    "rounds_hdf=h5py.File(belt_file)['inferred']['belt_scn_df']['rounds']\n",
    "rounds_hdf=pd.DataFrame(rounds_hdf)\n",
    "rounds_hdf.columns=['Rounds']\n",
    "rounds_hdf=rounds_hdf.astype(int)\n",
    "# panda frame for running(yes or no running)\n",
    "running_hdf=h5py.File(belt_file)['inferred']['belt_scn_df']['running']\n",
    "running_hdf=pd.DataFrame(running_hdf)\n",
    "running_hdf.columns=['Running']\n",
    "running_hdf=running_hdf.astype(int)\n"
   ]
  },
  {
   "cell_type": "markdown",
   "metadata": {},
   "source": [
    "adding all of the panda frames to one panda frame to analyse everything at the same time"
   ]
  },
  {
   "cell_type": "code",
   "execution_count": 10,
   "metadata": {},
   "outputs": [],
   "source": [
    "#adding all the parameters in one panda frame\n",
    "fluo_hdf_r = pd.concat([fluo_hdf_r, time_hdf, distance_hdf, speed_hdf, rounds_hdf, running_hdf], axis=1, ignore_index=True)\n",
    "# Create a mapping dictionary for column renaming\n",
    "rename_mapping = {old_col: new_col for old_col, new_col in zip(fluo_hdf_r.columns[-5:], ['Time (ms)', 'Distance (cm)', 'Speed (cm/s)', 'Rounds', 'Running'])}\n",
    "# Rename the columns\n",
    "fluo_hdf_r = fluo_hdf_r.rename(columns=rename_mapping)"
   ]
  },
  {
   "cell_type": "markdown",
   "metadata": {},
   "source": [
    "I want to plot as I test the different distances every time in every round to compare"
   ]
  },
  {
   "cell_type": "code",
   "execution_count": null,
   "metadata": {},
   "outputs": [],
   "source": [
    "rounds=[]\n",
    "for i in range(8):\n",
    "    if i>0:\n",
    "        dis=fluo_hdf_r[fluo_hdf_r['Rounds']==i].iloc[-1]['Distance (cm)']-fluo_hdf_r[fluo_hdf_r['Rounds']==i-1].iloc[-1]['Distance (cm)']\n",
    "        rounds.append(dis)\n",
    "    else:\n",
    "        dis=fluo_hdf_r[fluo_hdf_r['Rounds']==i].iloc[-1]['Distance (cm)']\n",
    "        rounds.append(dis)\n",
    "    #print (f\"round {i},{dis}\")\n",
    "\n",
    "plt.hist(rounds,100)\n",
    "\n",
    "#all the distances approximately 1.5 m"
   ]
  },
  {
   "cell_type": "markdown",
   "metadata": {},
   "source": [
    "first I will plot the activity for the first round and I will add the others later on top.\n",
    "the activity will be plotted depending on distance hopefully"
   ]
  },
  {
   "cell_type": "code",
   "execution_count": null,
   "metadata": {},
   "outputs": [],
   "source": [
    "#storing the distance because I will plot against it\n",
    "#first for round 1\n",
    "distance_per_round=fluo_hdf_r[(fluo_hdf_r['Running']==1) & (fluo_hdf_r['Rounds']==1)].iloc[:,-4]\n",
    "#retracting the distance from the latest round\n",
    "distance_per_round=fluo_hdf_r[(fluo_hdf_r['Running']==1) & (fluo_hdf_r['Rounds']==1)].iloc[:,-4]-fluo_hdf_r[fluo_hdf_r['Rounds']==0].iloc[-1]['Distance (cm)']\n",
    "\n"
   ]
  },
  {
   "cell_type": "code",
   "execution_count": null,
   "metadata": {},
   "outputs": [],
   "source": [
    "fluo_hdf_r[(fluo_hdf_r['Running']==1) & (fluo_hdf_r['Rounds']==9)].iloc[:,:-5].T"
   ]
  },
  {
   "cell_type": "code",
   "execution_count": null,
   "metadata": {},
   "outputs": [],
   "source": [
    "#storing the value for round 1 first\n",
    "\n",
    "\n",
    "for round in range(1,8):\n",
    "    fluo_per_round=fluo_hdf_r[(fluo_hdf_r['Running']==1) & (fluo_hdf_r['Rounds']==round)].iloc[:,:-5].T\n",
    "\n",
    "    fluo_per_round_max=fluo_per_round.apply(np.argmax,axis=1)\n",
    "    fluo_filtered=fluo_per_round.loc[fluo_per_round_max>= 0]\n",
    "    filtered_values=fluo_filtered.apply(np.argmax, axis=1).sort_values().index\n",
    "    \n",
    "    fluo_filtered_sorted=fluo_filtered.loc[list(filtered_values)]\n",
    "\n",
    "    #putting the parameter of distance\n",
    "\n",
    "    distance_per_round=fluo_hdf_r[(fluo_hdf_r['Running']==1) & (fluo_hdf_r['Rounds']==round)].iloc[:,-4]\n",
    "    #retracting the distance from the latest round\n",
    "    distance_per_round=fluo_hdf_r[(fluo_hdf_r['Running']==1) & (fluo_hdf_r['Rounds']==round)].iloc[:,-4]-fluo_hdf_r[fluo_hdf_r['Rounds']==round-1].iloc[-1]['Distance (cm)']\n",
    "\n",
    "    sns.heatmap(fluo_filtered_sorted,vmax=20,xticklabels=[])\n",
    "    plt.title(f\"CA1 cells during mobility round {round}\")\n",
    "    plt.ylabel('Cell ID')\n",
    "    plt.show()\n",
    "\n",
    "\n"
   ]
  },
  {
   "cell_type": "code",
   "execution_count": null,
   "metadata": {},
   "outputs": [],
   "source": [
    "round1_max=round1.apply(np.argmax,axis=1)\n",
    "test_filtered = round1.loc[round1_max >= 0]\n",
    "filtered_values=test_filtered.apply(np.argmax, axis=1).sort_values().index\n",
    "test_filtered_sorted = test_filtered.loc[list(filtered_values),:]\n",
    "# Calculate the maximum diagonal values\n",
    "sns.heatmap(test_filtered_sorted,vmax=20,xticklabels=[])"
   ]
  },
  {
   "cell_type": "code",
   "execution_count": null,
   "metadata": {},
   "outputs": [],
   "source": []
  }
 ],
 "metadata": {
  "kernelspec": {
   "display_name": "base",
   "language": "python",
   "name": "python3"
  },
  "language_info": {
   "codemirror_mode": {
    "name": "ipython",
    "version": 3
   },
   "file_extension": ".py",
   "mimetype": "text/x-python",
   "name": "python",
   "nbconvert_exporter": "python",
   "pygments_lexer": "ipython3",
   "version": "3.11.5"
  }
 },
 "nbformat": 4,
 "nbformat_minor": 2
}
