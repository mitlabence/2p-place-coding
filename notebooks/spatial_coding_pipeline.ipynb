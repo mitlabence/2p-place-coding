{
 "cells": [
  {
   "cell_type": "code",
   "execution_count": null,
   "metadata": {},
   "outputs": [],
   "source": [
    "#Auto-reload modules (used to develop functions outside this notebook)\n",
    "%load_ext autoreload\n",
    "%autoreload 2"
   ]
  },
  {
   "cell_type": "code",
   "execution_count": null,
   "metadata": {},
   "outputs": [],
   "source": [
    "#import necessary libraries\n",
    "import pandas as pd\n",
    "import h5py\n",
    "import xarray as xr\n",
    "import numpy as np\n",
    "import matplotlib.pyplot as plt\n",
    "import seaborn as sns\n",
    "from scipy.stats import zscore,kstest\n",
    "from scipy.ndimage import gaussian_filter\n",
    "from scipy.signal import find_peaks\n",
    "import matplotlib.patches as mpatches\n",
    "from matplotlib.backends.backend_pdf import PdfPages\n",
    "import random\n",
    "import os\n",
    "import h5py\n",
    "\n",
    "#import my functions\n",
    "from placecode.spatial_coding_functions import firing_rate_map, read_spatial\n",
    "from placecode.utils import open_file, open_dir\n",
    "from placecode.expinfo import ExpInfo"
   ]
  },
  {
   "cell_type": "markdown",
   "metadata": {},
   "source": [
    "## Locate files"
   ]
  },
  {
   "cell_type": "code",
   "execution_count": null,
   "metadata": {},
   "outputs": [],
   "source": [
    "fpath_expinfo = open_file(\"Select experiment info json file!\")"
   ]
  },
  {
   "cell_type": "code",
   "execution_count": null,
   "metadata": {},
   "outputs": [],
   "source": [
    "exp_info = ExpInfo(fpath_expinfo)"
   ]
  },
  {
   "cell_type": "code",
   "execution_count": null,
   "metadata": {},
   "outputs": [],
   "source": [
    "# make sure the necessary files exist\n",
    "assert os.path.exists(exp_info.fpath_caim)\n",
    "assert os.path.exists(exp_info.fpath_loco)"
   ]
  },
  {
   "cell_type": "code",
   "execution_count": null,
   "metadata": {},
   "outputs": [],
   "source": [
    "# select folder to save results\n",
    "output_folder = open_dir(\"Select folder for output\")"
   ]
  },
  {
   "cell_type": "markdown",
   "metadata": {},
   "source": [
    "## Create dict to record analysis parameters"
   ]
  },
  {
   "cell_type": "code",
   "execution_count": null,
   "metadata": {},
   "outputs": [],
   "source": [
    "dict_pc_params = dict()"
   ]
  },
  {
   "cell_type": "markdown",
   "metadata": {},
   "source": [
    "## Load data"
   ]
  },
  {
   "cell_type": "code",
   "execution_count": null,
   "metadata": {},
   "outputs": [],
   "source": [
    "# load CaImAn data\n",
    "with h5py.File(exp_info.fpath_caim, \"r\") as hf_caim:\n",
    "    # temporal\n",
    "    temporal_raw=hf_caim['estimates']['C'][()]\n",
    "    n_components, n_frames = temporal_raw.shape\n",
    "    resolution = hf_caim[\"dims\"][()]\n",
    "    # access a single temporal component as temporal_raw[i]\n",
    "\n",
    "    # spatial\n",
    "    resolution = hf_caim[\"dims\"][()]\n",
    "    A_data = hf_caim[\"estimates\"][\"A\"][\"data\"][()]\n",
    "    A_indices = hf_caim[\"estimates\"][\"A\"][\"indices\"][()]\n",
    "    A_indptr = hf_caim[\"estimates\"][\"A\"][\"indptr\"][()]\n",
    "    A_shape = hf_caim[\"estimates\"][\"A\"][\"shape\"][()]\n",
    "    spatial = read_spatial(A_data, A_indices, A_indptr, A_shape, n_components, resolution, unflatten=True)"
   ]
  },
  {
   "cell_type": "code",
   "execution_count": null,
   "metadata": {},
   "outputs": [],
   "source": [
    "# load loco data\n",
    "# TODO: include stripes, distance per round, etc. in loco data cut to scanner time frame. Missing in Martin's code?\n",
    "#   check https://github.com/mitlabence/matlab-2p/issues/11\n",
    "dict_loco = dict()\n",
    "with h5py.File(exp_info.fpath_loco, \"r\") as hf_loco:\n",
    "    for dset_name in hf_loco[\"inferred\"][\"belt_scn_dict\"].keys():\n",
    "        dtype = np.int16 if dset_name in [\"round\", \"rounds\", \"stripes\"] else np.float64\n",
    "        dict_loco[dset_name] = hf_loco[\"inferred\"][\"belt_scn_dict\"][dset_name][()].astype(dtype)\n",
    "print(dict_loco.keys())\n"
   ]
  },
  {
   "cell_type": "markdown",
   "metadata": {},
   "source": [
    "## Preprocess data"
   ]
  },
  {
   "cell_type": "markdown",
   "metadata": {},
   "source": [
    "Create z-score of temporal components"
   ]
  },
  {
   "cell_type": "code",
   "execution_count": null,
   "metadata": {},
   "outputs": [],
   "source": [
    "temporal_z = zscore(temporal_raw, axis=1) "
   ]
  },
  {
   "cell_type": "markdown",
   "metadata": {},
   "source": [
    "### Filter rounds\n",
    "Only use rounds where the total length adds up to the expected belt length"
   ]
  },
  {
   "cell_type": "code",
   "execution_count": null,
   "metadata": {},
   "outputs": [],
   "source": [
    "expected_distance=exp_info.belt_length_mm\n",
    "lv_rounds = dict_loco[\"rounds\"]  \n",
    "lv_distPR = dict_loco[\"distance\"] # belt_scn_dict hast distance per round as distance, see issue above\n",
    "n_rounds=lv_rounds.max()  # number of finished rounds\n",
    "rounds = []\n",
    "round_flags = np.zeros(n_rounds, dtype=np.int8)  # 1 if corresponding round included in analysis, 0 otherwise\n",
    "\n",
    "for round in range(1,n_rounds+1):\n",
    "    dist_current_round=lv_distPR[lv_rounds==round][-1]\n",
    "    #print(dist_current_round)\n",
    "    if abs(dist_current_round-expected_distance)<15:\n",
    "        rounds.append(round)\n",
    "        round_flags[round-1] = 1\n",
    "\n",
    "num_rounds=len(rounds)\n",
    "print(f'Rounds: {rounds}\\n Number of rounds used: {num_rounds}, total {n_rounds}')\n",
    "\n",
    "# save as parameter a binary array on which round was included\n",
    "dict_pc_params[\"rounds_included\"] = round_flags\n",
    "dict_pc_params[\"n_rounds_included\"] = num_rounds\n",
    "\n",
    "# filter the data\n",
    "included_rounds_frames =  np.isin(dict_loco[\"rounds\"], np.array(rounds) - 1)  # convert rounds to 0-indexing, filter to only those rounds that count\n",
    "for k in dict_loco:\n",
    "    dict_loco[k] = dict_loco[k][included_rounds_frames]\n",
    "temporal_raw = temporal_raw[:, included_rounds_frames]\n",
    "temporal_z = temporal_z[:, included_rounds_frames]\n"
   ]
  },
  {
   "cell_type": "markdown",
   "metadata": {},
   "source": [
    "### Filter forward-locomoting frames\n",
    "Only use frames where mouse is running forward"
   ]
  },
  {
   "cell_type": "code",
   "execution_count": null,
   "metadata": {},
   "outputs": [],
   "source": [
    "loco_frames = dict_loco[\"speed\"] > 0\n",
    "for k in dict_loco:\n",
    "    dict_loco[k] = dict_loco[k][loco_frames]\n",
    "temporal_raw = temporal_raw[:, loco_frames]\n",
    "temporal_z = temporal_z[:, loco_frames]"
   ]
  },
  {
   "cell_type": "markdown",
   "metadata": {},
   "source": [
    "### Calculate spatial firing map"
   ]
  },
  {
   "cell_type": "code",
   "execution_count": null,
   "metadata": {},
   "outputs": [],
   "source": [
    "n_bins = exp_info.n_bins\n",
    "n_units = n_components"
   ]
  },
  {
   "cell_type": "code",
   "execution_count": null,
   "metadata": {},
   "outputs": [],
   "source": [
    "firing_rate_map_raw = firing_rate_map(temporal_raw, dict_loco[\"rounds\"], dict_loco[\"distance\"], n_bins)\n",
    "firing_rate_map_z = firing_rate_map(temporal_z, dict_loco[\"rounds\"], dict_loco[\"distance\"], n_bins)\n"
   ]
  },
  {
   "cell_type": "code",
   "execution_count": null,
   "metadata": {},
   "outputs": [],
   "source": []
  }
 ],
 "metadata": {
  "kernelspec": {
   "display_name": "placecoding",
   "language": "python",
   "name": "python3"
  },
  "language_info": {
   "codemirror_mode": {
    "name": "ipython",
    "version": 3
   },
   "file_extension": ".py",
   "mimetype": "text/x-python",
   "name": "python",
   "nbconvert_exporter": "python",
   "pygments_lexer": "ipython3",
   "version": "3.11.8"
  }
 },
 "nbformat": 4,
 "nbformat_minor": 2
}
